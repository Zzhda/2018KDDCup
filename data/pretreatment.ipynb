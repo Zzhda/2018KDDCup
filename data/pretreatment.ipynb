{
 "cells": [
  {
   "cell_type": "code",
   "execution_count": 1,
   "metadata": {},
   "outputs": [],
   "source": [
    "import numpy\n",
    "import pandas\n",
    "import random"
   ]
  },
  {
   "cell_type": "code",
   "execution_count": 2,
   "metadata": {},
   "outputs": [],
   "source": [
    "df = pandas.read_csv('beijing_17_18_meo.csv')"
   ]
  },
  {
   "cell_type": "code",
   "execution_count": null,
   "metadata": {},
   "outputs": [],
   "source": [
    "df.head()"
   ]
  },
  {
   "cell_type": "code",
   "execution_count": null,
   "metadata": {},
   "outputs": [],
   "source": [
    "df.describe()"
   ]
  },
  {
   "cell_type": "code",
   "execution_count": null,
   "metadata": {},
   "outputs": [],
   "source": [
    "df.isnull().any()"
   ]
  },
  {
   "cell_type": "code",
   "execution_count": null,
   "metadata": {},
   "outputs": [],
   "source": [
    "df[df.isnull().values==True]"
   ]
  },
  {
   "cell_type": "code",
   "execution_count": null,
   "metadata": {},
   "outputs": [],
   "source": [
    "df.drop_duplicates()"
   ]
  },
  {
   "cell_type": "markdown",
   "metadata": {},
   "source": [
    "以上结果看出，在beijing_17_18_meo.csv中没有重复的数据"
   ]
  },
  {
   "cell_type": "code",
   "execution_count": 13,
   "metadata": {},
   "outputs": [
    {
     "data": {
      "text/plain": [
       "station_id         object\n",
       "longitude         float64\n",
       "latitude          float64\n",
       "utc_time           object\n",
       "temperature       float64\n",
       "pressure          float64\n",
       "humidity            int64\n",
       "wind_direction    float64\n",
       "wind_speed        float64\n",
       "weather            object\n",
       "dtype: object"
      ]
     },
     "execution_count": 13,
     "metadata": {},
     "output_type": "execute_result"
    }
   ],
   "source": [
    "df.dtypes"
   ]
  },
  {
   "cell_type": "markdown",
   "metadata": {},
   "source": [
    "对wind_direction和wind_speed的NaN进行填充"
   ]
  },
  {
   "cell_type": "code",
   "execution_count": 3,
   "metadata": {},
   "outputs": [],
   "source": [
    "new_df = df.fillna(999999)"
   ]
  },
  {
   "cell_type": "code",
   "execution_count": 4,
   "metadata": {},
   "outputs": [
    {
     "data": {
      "text/plain": [
       "0.0    2205\n",
       "0.2    1863\n",
       "0.1    1496\n",
       "Name: wind_speed, dtype: int64"
      ]
     },
     "execution_count": 4,
     "metadata": {},
     "output_type": "execute_result"
    }
   ],
   "source": [
    "dirty_data = new_df.loc[new_df['wind_direction']==999017, 'wind_speed']\n",
    "dirty_data.value_counts()"
   ]
  },
  {
   "cell_type": "markdown",
   "metadata": {},
   "source": [
    "wind_direction范围是0--360，不在这个范围内的用生成的随机数(0--360)代替"
   ]
  },
  {
   "cell_type": "code",
   "execution_count": 5,
   "metadata": {},
   "outputs": [],
   "source": [
    "def clean_wind_direction(x):\n",
    "    if x > 360:\n",
    "        return random.randint(0, 360)\n",
    "    return x\n",
    "\n",
    "def clean_wind_speed(x):\n",
    "    if x > 16:\n",
    "        return random.randint(0, 16)\n",
    "    return x\n",
    "\n",
    "def clean_temperature(x):\n",
    "    if x > 40 or x < -20:\n",
    "        return random.randint(-20, 40)\n",
    "    return x\n",
    "\n",
    "def clean_pressure(x):\n",
    "    if x > 1040 or x < 990:\n",
    "        return random.randint(990, 1040)\n",
    "    return x\n",
    "\n",
    "def clean_humidity(x):\n",
    "    if x > 100 or x < 0:\n",
    "        return random.randint(0, 100)\n",
    "    return x"
   ]
  },
  {
   "cell_type": "code",
   "execution_count": 6,
   "metadata": {},
   "outputs": [],
   "source": [
    "new_df['wind_direction'] = new_df.wind_direction.apply(clean_wind_direction)"
   ]
  },
  {
   "cell_type": "code",
   "execution_count": 7,
   "metadata": {},
   "outputs": [
    {
     "data": {
      "text/html": [
       "<div>\n",
       "<style scoped>\n",
       "    .dataframe tbody tr th:only-of-type {\n",
       "        vertical-align: middle;\n",
       "    }\n",
       "\n",
       "    .dataframe tbody tr th {\n",
       "        vertical-align: top;\n",
       "    }\n",
       "\n",
       "    .dataframe thead th {\n",
       "        text-align: right;\n",
       "    }\n",
       "</style>\n",
       "<table border=\"1\" class=\"dataframe\">\n",
       "  <thead>\n",
       "    <tr style=\"text-align: right;\">\n",
       "      <th></th>\n",
       "      <th>longitude</th>\n",
       "      <th>latitude</th>\n",
       "      <th>temperature</th>\n",
       "      <th>pressure</th>\n",
       "      <th>humidity</th>\n",
       "      <th>wind_direction</th>\n",
       "      <th>wind_speed</th>\n",
       "    </tr>\n",
       "  </thead>\n",
       "  <tbody>\n",
       "    <tr>\n",
       "      <th>count</th>\n",
       "      <td>158047.000000</td>\n",
       "      <td>158047.000000</td>\n",
       "      <td>158047.000000</td>\n",
       "      <td>158047.000000</td>\n",
       "      <td>158047.000000</td>\n",
       "      <td>158047.000000</td>\n",
       "      <td>158047.000000</td>\n",
       "    </tr>\n",
       "    <tr>\n",
       "      <th>mean</th>\n",
       "      <td>116.395672</td>\n",
       "      <td>40.047275</td>\n",
       "      <td>38.182775</td>\n",
       "      <td>1026.798200</td>\n",
       "      <td>354.312894</td>\n",
       "      <td>176.491733</td>\n",
       "      <td>1577.361118</td>\n",
       "    </tr>\n",
       "    <tr>\n",
       "      <th>std</th>\n",
       "      <td>0.395223</td>\n",
       "      <td>0.264798</td>\n",
       "      <td>5030.694816</td>\n",
       "      <td>5025.748455</td>\n",
       "      <td>17423.723518</td>\n",
       "      <td>106.320000</td>\n",
       "      <td>39661.057103</td>\n",
       "    </tr>\n",
       "    <tr>\n",
       "      <th>min</th>\n",
       "      <td>115.692222</td>\n",
       "      <td>39.718611</td>\n",
       "      <td>-21.300000</td>\n",
       "      <td>940.000000</td>\n",
       "      <td>4.000000</td>\n",
       "      <td>0.000000</td>\n",
       "      <td>0.000000</td>\n",
       "    </tr>\n",
       "    <tr>\n",
       "      <th>25%</th>\n",
       "      <td>116.194167</td>\n",
       "      <td>39.847500</td>\n",
       "      <td>2.500000</td>\n",
       "      <td>994.200000</td>\n",
       "      <td>27.000000</td>\n",
       "      <td>75.000000</td>\n",
       "      <td>0.900000</td>\n",
       "    </tr>\n",
       "    <tr>\n",
       "      <th>50%</th>\n",
       "      <td>116.290556</td>\n",
       "      <td>39.973889</td>\n",
       "      <td>13.800000</td>\n",
       "      <td>1005.600000</td>\n",
       "      <td>48.000000</td>\n",
       "      <td>184.000000</td>\n",
       "      <td>1.500000</td>\n",
       "    </tr>\n",
       "    <tr>\n",
       "      <th>75%</th>\n",
       "      <td>116.626944</td>\n",
       "      <td>40.223333</td>\n",
       "      <td>23.200000</td>\n",
       "      <td>1016.900000</td>\n",
       "      <td>73.000000</td>\n",
       "      <td>266.000000</td>\n",
       "      <td>2.500000</td>\n",
       "    </tr>\n",
       "    <tr>\n",
       "      <th>max</th>\n",
       "      <td>117.117778</td>\n",
       "      <td>40.658889</td>\n",
       "      <td>999999.000000</td>\n",
       "      <td>999999.000000</td>\n",
       "      <td>999999.000000</td>\n",
       "      <td>360.000000</td>\n",
       "      <td>999999.000000</td>\n",
       "    </tr>\n",
       "  </tbody>\n",
       "</table>\n",
       "</div>"
      ],
      "text/plain": [
       "           longitude       latitude    temperature       pressure  \\\n",
       "count  158047.000000  158047.000000  158047.000000  158047.000000   \n",
       "mean      116.395672      40.047275      38.182775    1026.798200   \n",
       "std         0.395223       0.264798    5030.694816    5025.748455   \n",
       "min       115.692222      39.718611     -21.300000     940.000000   \n",
       "25%       116.194167      39.847500       2.500000     994.200000   \n",
       "50%       116.290556      39.973889      13.800000    1005.600000   \n",
       "75%       116.626944      40.223333      23.200000    1016.900000   \n",
       "max       117.117778      40.658889  999999.000000  999999.000000   \n",
       "\n",
       "            humidity  wind_direction     wind_speed  \n",
       "count  158047.000000   158047.000000  158047.000000  \n",
       "mean      354.312894      176.491733    1577.361118  \n",
       "std     17423.723518      106.320000   39661.057103  \n",
       "min         4.000000        0.000000       0.000000  \n",
       "25%        27.000000       75.000000       0.900000  \n",
       "50%        48.000000      184.000000       1.500000  \n",
       "75%        73.000000      266.000000       2.500000  \n",
       "max    999999.000000      360.000000  999999.000000  "
      ]
     },
     "execution_count": 7,
     "metadata": {},
     "output_type": "execute_result"
    }
   ],
   "source": [
    "new_df.describe()"
   ]
  },
  {
   "cell_type": "code",
   "execution_count": 8,
   "metadata": {},
   "outputs": [
    {
     "data": {
      "text/plain": [
       "999999.0    249\n",
       "15.4          1\n",
       "Name: wind_speed, dtype: int64"
      ]
     },
     "execution_count": 8,
     "metadata": {},
     "output_type": "execute_result"
    }
   ],
   "source": [
    "dirty_data = new_df.loc[new_df['wind_speed']>15, 'wind_speed']\n",
    "dirty_data.value_counts()"
   ]
  },
  {
   "cell_type": "markdown",
   "metadata": {},
   "source": [
    "wind_speed范围是0--16，不在这个范围内的用生成的随机数(0--16)代替"
   ]
  },
  {
   "cell_type": "code",
   "execution_count": 9,
   "metadata": {},
   "outputs": [],
   "source": [
    "new_df['wind_speed'] = new_df.wind_speed.apply(clean_wind_speed)"
   ]
  },
  {
   "cell_type": "code",
   "execution_count": 10,
   "metadata": {},
   "outputs": [],
   "source": [
    "new_df['temperature'] = new_df.temperature.apply(clean_temperature)\n",
    "new_df['pressure'] = new_df.pressure.apply(clean_pressure)\n",
    "new_df['humidity'] = new_df.humidity.apply(clean_humidity)"
   ]
  },
  {
   "cell_type": "code",
   "execution_count": 11,
   "metadata": {},
   "outputs": [
    {
     "data": {
      "text/html": [
       "<div>\n",
       "<style scoped>\n",
       "    .dataframe tbody tr th:only-of-type {\n",
       "        vertical-align: middle;\n",
       "    }\n",
       "\n",
       "    .dataframe tbody tr th {\n",
       "        vertical-align: top;\n",
       "    }\n",
       "\n",
       "    .dataframe thead th {\n",
       "        text-align: right;\n",
       "    }\n",
       "</style>\n",
       "<table border=\"1\" class=\"dataframe\">\n",
       "  <thead>\n",
       "    <tr style=\"text-align: right;\">\n",
       "      <th></th>\n",
       "      <th>longitude</th>\n",
       "      <th>latitude</th>\n",
       "      <th>temperature</th>\n",
       "      <th>pressure</th>\n",
       "      <th>humidity</th>\n",
       "      <th>wind_direction</th>\n",
       "      <th>wind_speed</th>\n",
       "    </tr>\n",
       "  </thead>\n",
       "  <tbody>\n",
       "    <tr>\n",
       "      <th>count</th>\n",
       "      <td>158047.000000</td>\n",
       "      <td>158047.000000</td>\n",
       "      <td>158047.000000</td>\n",
       "      <td>158047.000000</td>\n",
       "      <td>158047.000000</td>\n",
       "      <td>158047.000000</td>\n",
       "      <td>158047.000000</td>\n",
       "    </tr>\n",
       "    <tr>\n",
       "      <th>mean</th>\n",
       "      <td>116.395672</td>\n",
       "      <td>40.047275</td>\n",
       "      <td>12.874187</td>\n",
       "      <td>1011.671430</td>\n",
       "      <td>50.621543</td>\n",
       "      <td>176.491733</td>\n",
       "      <td>1.894814</td>\n",
       "    </tr>\n",
       "    <tr>\n",
       "      <th>std</th>\n",
       "      <td>0.395223</td>\n",
       "      <td>0.264798</td>\n",
       "      <td>12.079287</td>\n",
       "      <td>11.606183</td>\n",
       "      <td>26.053929</td>\n",
       "      <td>106.320000</td>\n",
       "      <td>1.395240</td>\n",
       "    </tr>\n",
       "    <tr>\n",
       "      <th>min</th>\n",
       "      <td>115.692222</td>\n",
       "      <td>39.718611</td>\n",
       "      <td>-20.000000</td>\n",
       "      <td>990.000000</td>\n",
       "      <td>3.000000</td>\n",
       "      <td>0.000000</td>\n",
       "      <td>0.000000</td>\n",
       "    </tr>\n",
       "    <tr>\n",
       "      <th>25%</th>\n",
       "      <td>116.194167</td>\n",
       "      <td>39.847500</td>\n",
       "      <td>2.500000</td>\n",
       "      <td>1002.100000</td>\n",
       "      <td>27.000000</td>\n",
       "      <td>75.000000</td>\n",
       "      <td>0.900000</td>\n",
       "    </tr>\n",
       "    <tr>\n",
       "      <th>50%</th>\n",
       "      <td>116.290556</td>\n",
       "      <td>39.973889</td>\n",
       "      <td>13.800000</td>\n",
       "      <td>1011.200000</td>\n",
       "      <td>48.000000</td>\n",
       "      <td>184.000000</td>\n",
       "      <td>1.500000</td>\n",
       "    </tr>\n",
       "    <tr>\n",
       "      <th>75%</th>\n",
       "      <td>116.626944</td>\n",
       "      <td>40.223333</td>\n",
       "      <td>23.200000</td>\n",
       "      <td>1020.400000</td>\n",
       "      <td>73.000000</td>\n",
       "      <td>266.000000</td>\n",
       "      <td>2.500000</td>\n",
       "    </tr>\n",
       "    <tr>\n",
       "      <th>max</th>\n",
       "      <td>117.117778</td>\n",
       "      <td>40.658889</td>\n",
       "      <td>39.900000</td>\n",
       "      <td>1040.000000</td>\n",
       "      <td>100.000000</td>\n",
       "      <td>360.000000</td>\n",
       "      <td>16.000000</td>\n",
       "    </tr>\n",
       "  </tbody>\n",
       "</table>\n",
       "</div>"
      ],
      "text/plain": [
       "           longitude       latitude    temperature       pressure  \\\n",
       "count  158047.000000  158047.000000  158047.000000  158047.000000   \n",
       "mean      116.395672      40.047275      12.874187    1011.671430   \n",
       "std         0.395223       0.264798      12.079287      11.606183   \n",
       "min       115.692222      39.718611     -20.000000     990.000000   \n",
       "25%       116.194167      39.847500       2.500000    1002.100000   \n",
       "50%       116.290556      39.973889      13.800000    1011.200000   \n",
       "75%       116.626944      40.223333      23.200000    1020.400000   \n",
       "max       117.117778      40.658889      39.900000    1040.000000   \n",
       "\n",
       "            humidity  wind_direction     wind_speed  \n",
       "count  158047.000000   158047.000000  158047.000000  \n",
       "mean       50.621543      176.491733       1.894814  \n",
       "std        26.053929      106.320000       1.395240  \n",
       "min         3.000000        0.000000       0.000000  \n",
       "25%        27.000000       75.000000       0.900000  \n",
       "50%        48.000000      184.000000       1.500000  \n",
       "75%        73.000000      266.000000       2.500000  \n",
       "max       100.000000      360.000000      16.000000  "
      ]
     },
     "execution_count": 11,
     "metadata": {},
     "output_type": "execute_result"
    }
   ],
   "source": [
    "new_df.describe()"
   ]
  },
  {
   "cell_type": "markdown",
   "metadata": {},
   "source": [
    "保存到新的csv文件"
   ]
  },
  {
   "cell_type": "code",
   "execution_count": 12,
   "metadata": {},
   "outputs": [],
   "source": [
    "new_df.to_csv('beijing_17_18_meo_cleaned.csv', index=False)"
   ]
  },
  {
   "cell_type": "markdown",
   "metadata": {},
   "source": [
    "# 数据可视化"
   ]
  },
  {
   "cell_type": "code",
   "execution_count": 13,
   "metadata": {},
   "outputs": [],
   "source": [
    "import seaborn as sns\n",
    "import matplotlib.pyplot as plt\n",
    "import pandas as pd\n",
    "import numpy as np"
   ]
  },
  {
   "cell_type": "markdown",
   "metadata": {},
   "source": [
    "## 1、查看单列数据的分布情况"
   ]
  },
  {
   "cell_type": "code",
   "execution_count": 14,
   "metadata": {},
   "outputs": [],
   "source": [
    "meoData = pd.read_csv('beijing_17_18_meo_cleaned.csv')"
   ]
  },
  {
   "cell_type": "code",
   "execution_count": 15,
   "metadata": {},
   "outputs": [],
   "source": [
    "chaoyangData = pd.DataFrame(meoData[meoData.station_id=='chaoyang_meo'])"
   ]
  },
  {
   "cell_type": "code",
   "execution_count": 16,
   "metadata": {},
   "outputs": [],
   "source": [
    "col_temperature = chaoyangData['temperature']"
   ]
  },
  {
   "cell_type": "code",
   "execution_count": 17,
   "metadata": {},
   "outputs": [
    {
     "name": "stderr",
     "output_type": "stream",
     "text": [
      "c:\\bbbbbbing\\mypython\\kddcup\\venv\\lib\\site-packages\\matplotlib\\axes\\_axes.py:6462: UserWarning: The 'normed' kwarg is deprecated, and has been replaced by the 'density' kwarg.\n",
      "  warnings.warn(\"The 'normed' kwarg is deprecated, and has been \"\n"
     ]
    },
    {
     "data": {
      "text/plain": [
       "<matplotlib.axes._subplots.AxesSubplot at 0x16988610>"
      ]
     },
     "execution_count": 17,
     "metadata": {},
     "output_type": "execute_result"
    },
    {
     "data": {
      "image/png": "[encoded data removed]",
      "text/plain": [
       "<Figure size 432x288 with 1 Axes>"
      ]
     },
     "metadata": {},
     "output_type": "display_data"
    }
   ],
   "source": [
    "sns.distplot(col_temperature, rug=True)"
   ]
  },
  {
   "cell_type": "markdown",
   "metadata": {},
   "source": [
    "由上图可以看出，温度主要分布在-20--40度，因此对于温度脏数据可以取-20--40度的随机值"
   ]
  },
  {
   "cell_type": "code",
   "execution_count": 18,
   "metadata": {},
   "outputs": [
    {
     "name": "stderr",
     "output_type": "stream",
     "text": [
      "c:\\bbbbbbing\\mypython\\kddcup\\venv\\lib\\site-packages\\matplotlib\\axes\\_axes.py:6462: UserWarning: The 'normed' kwarg is deprecated, and has been replaced by the 'density' kwarg.\n",
      "  warnings.warn(\"The 'normed' kwarg is deprecated, and has been \"\n"
     ]
    },
    {
     "data": {
      "text/plain": [
       "<matplotlib.axes._subplots.AxesSubplot at 0x34efd70>"
      ]
     },
     "execution_count": 18,
     "metadata": {},
     "output_type": "execute_result"
    },
    {
     "data": {
      "image/png": "[encoded data removed]",
      "text/plain": [
       "<Figure size 432x288 with 1 Axes>"
      ]
     },
     "metadata": {},
     "output_type": "display_data"
    }
   ],
   "source": [
    "col_pressure = chaoyangData['pressure']\n",
    "sns.distplot(col_pressure, rug=True)"
   ]
  },
  {
   "cell_type": "markdown",
   "metadata": {},
   "source": [
    "由上图可以看出，气压主要分布在990--1040，因此对于气压脏数据可以取990--1040的随机值"
   ]
  },
  {
   "cell_type": "code",
   "execution_count": 19,
   "metadata": {},
   "outputs": [
    {
     "name": "stderr",
     "output_type": "stream",
     "text": [
      "c:\\bbbbbbing\\mypython\\kddcup\\venv\\lib\\site-packages\\matplotlib\\axes\\_axes.py:6462: UserWarning: The 'normed' kwarg is deprecated, and has been replaced by the 'density' kwarg.\n",
      "  warnings.warn(\"The 'normed' kwarg is deprecated, and has been \"\n"
     ]
    },
    {
     "data": {
      "text/plain": [
       "<matplotlib.axes._subplots.AxesSubplot at 0x200a01f0>"
      ]
     },
     "execution_count": 19,
     "metadata": {},
     "output_type": "execute_result"
    },
    {
     "data": {
      "image/png": "[encoded data removed]",
      "text/plain": [
       "<Figure size 432x288 with 1 Axes>"
      ]
     },
     "metadata": {},
     "output_type": "display_data"
    }
   ],
   "source": [
    "col_humidity = chaoyangData['humidity']\n",
    "sns.distplot(col_humidity, rug=True)"
   ]
  },
  {
   "cell_type": "markdown",
   "metadata": {},
   "source": [
    "由上图可以看出,湿度百分比分布在0--100,因此对于湿度百分比脏数据可以取0--100的随机值"
   ]
  },
  {
   "cell_type": "code",
   "execution_count": 20,
   "metadata": {},
   "outputs": [
    {
     "name": "stderr",
     "output_type": "stream",
     "text": [
      "c:\\bbbbbbing\\mypython\\kddcup\\venv\\lib\\site-packages\\matplotlib\\axes\\_axes.py:6462: UserWarning: The 'normed' kwarg is deprecated, and has been replaced by the 'density' kwarg.\n",
      "  warnings.warn(\"The 'normed' kwarg is deprecated, and has been \"\n"
     ]
    },
    {
     "data": {
      "text/plain": [
       "<matplotlib.axes._subplots.AxesSubplot at 0x20180d90>"
      ]
     },
     "execution_count": 20,
     "metadata": {},
     "output_type": "execute_result"
    },
    {
     "data": {
      "image/png": "[encoded data removed]",
      "text/plain": [
       "<Figure size 432x288 with 1 Axes>"
      ]
     },
     "metadata": {},
     "output_type": "display_data"
    }
   ],
   "source": [
    "col_wind_direction = chaoyangData['wind_direction']\n",
    "sns.distplot(col_wind_direction, rug=True)"
   ]
  },
  {
   "cell_type": "code",
   "execution_count": 21,
   "metadata": {},
   "outputs": [
    {
     "name": "stderr",
     "output_type": "stream",
     "text": [
      "c:\\bbbbbbing\\mypython\\kddcup\\venv\\lib\\site-packages\\matplotlib\\axes\\_axes.py:6462: UserWarning: The 'normed' kwarg is deprecated, and has been replaced by the 'density' kwarg.\n",
      "  warnings.warn(\"The 'normed' kwarg is deprecated, and has been \"\n"
     ]
    },
    {
     "data": {
      "text/plain": [
       "<matplotlib.axes._subplots.AxesSubplot at 0x2a3547b0>"
      ]
     },
     "execution_count": 21,
     "metadata": {},
     "output_type": "execute_result"
    },
    {
     "data": {
      "image/png": "[encoded data removed]",
      "text/plain": [
       "<Figure size 432x288 with 1 Axes>"
      ]
     },
     "metadata": {},
     "output_type": "display_data"
    }
   ],
   "source": [
    "col_wind_speed = chaoyangData['wind_speed']\n",
    "sns.distplot(col_wind_speed, rug=True)"
   ]
  }
 ],
 "metadata": {
  "kernelspec": {
   "display_name": "Python 3",
   "language": "python",
   "name": "python3"
  },
  "language_info": {
   "codemirror_mode": {
    "name": "ipython",
    "version": 3
   },
   "file_extension": ".py",
   "mimetype": "text/x-python",
   "name": "python",
   "nbconvert_exporter": "python",
   "pygments_lexer": "ipython3",
   "version": "3.6.4"
  }
 },
 "nbformat": 4,
 "nbformat_minor": 2
}
